{
 "cells": [
  {
   "cell_type": "markdown",
   "metadata": {},
   "source": [
    "### Soil data column index\n",
    "- fips: US county FIPS code. see: https://www.nrcs.usda.gov/wps/portal/nrcs/detail/national/home/?cid=nrcs143_013697\n",
    "- lat: Latitude -->\n",
    "- lon: Longitude\n",
    "- elevation: Median elevation (meters)\n",
    "- slope1: 0 % ≤ slope ≤ 0.5 %\n",
    "- slope2: 0.5 % ≤ slope ≤ 2 %\n",
    "- slope3: 2 % ≤ slope ≤ 5 %\n",
    "- slope4: 5 % ≤ slope ≤ 10 %\n",
    "- slope5: 10 % ≤ slope ≤ 15 %\n",
    "- slope6: 15 % ≤ slope ≤ 30 %\n",
    "- slope7: 30 % ≤ slope ≤ 45 %\n",
    "- slope8: Slope > 45 %\n",
    "- aspectN: North: 0˚< aspect ≤45˚ or 315˚< aspect ≤360˚\n",
    "- aspectE: East: 45˚ < aspect ≤ 135\n",
    "- aspectS: South: 135˚ < aspect ≤ 225˚\n",
    "- aspectW: West: 225˚ < aspect ≤ 315˚\n",
    "- aspectUnknown: Undefined: Slope aspect undefined; this value is used for grids where slope gradient is undefined or slope gradient is less than 2%.\n",
    "- WAT_LAND: mapped water bodies\n",
    "- NVG_LAND: barren/very sparsely vegetated land\n",
    "- URB_LAND: built-up land (residential and infrastructure)\n",
    "- GRS_LAND: grass/scrub/woodland\n",
    "- FOR_LAND: forest land, calibrated to FRA2000 land statistics\n",
    "- CULTRF_LAND: \n",
    "- CULTIR_LAND: irrigated cultivated land, according to GMIA 4.0\n",
    "- CULT_LAND: total cultivated land\n",
    "- SQ1: Nutrient availability\n",
    "- SQ2: Nutrient retention capacity\n",
    "- SQ3: Rooting conditions\n",
    "- SQ4: Oxygen availability to roots\n",
    "- SQ5: Excess salts.\n",
    "- SQ6: Toxicity\n",
    "- SQ7: Workability (constraining field management)"
   ]
  },
  {
   "cell_type": "markdown",
   "metadata": {},
   "source": [
    "### Weather data column index\n",
    "- fips: US county FIPS code. see: https://www.nrcs.usda.gov/wps/portal/nrcs/detail/national/home/?cid=nrcs143_013697\n",
    "- date: observation date\n",
    "- PRECTOT = Precipitation (mm day-1)\n",
    "- PS = Surface Pressure (kPa)\n",
    "- QV2M = Specific Humidity at 2 Meters (g/kg)\n",
    "- T2M = Temperature at 2 Meters (C)\n",
    "- T2MDEW = Dew/Frost Point at 2 Meters (C)\n",
    "- T2MWET = Wet Bulb Temperature at 2 Meters (C)\n",
    "- T2M_MAX = Maximum Temperature at 2 Meters (C)\n",
    "- T2M_MIN = Minimum Temperature at 2 Meters (C)\n",
    "- T2M_RANGE = Temperature Range at 2 Meters (C)\n",
    "- TS = Earth Skin Temperature (C)\n",
    "- WS10M = Wind Speed at 10 Meters (m/s)\n",
    "- WS10M_MAX = Maximum Wind Speed at 10 Meters (m/s)\n",
    "- WS10M_MIN = Minimum Wind Speed at 10 Meters (m/s)\n",
    "- WS10M_RANGE = Wind Speed Range at 10 Meters (m/s)\n",
    "- WS50M = Wind Speed at 50 Meters (m/s)\n",
    "- WS50M_MAX = Maximum Wind Speed at 50 Meters (m/s)\n",
    "- WS50M_MIN = Minimum Wind Speed at 50 Meters (m/s)\n",
    "- WS50M_RANGE = Wind Speed Range at 50 Meters (m/s)\n",
    "- score:\n",
    "\n",
    "\n"
   ]
  },
  {
   "cell_type": "code",
   "execution_count": 1,
   "metadata": {},
   "outputs": [],
   "source": [
    "import numpy as np\n",
    "import pandas as pd\n",
    "import seaborn as sns\n",
    "import matplotlib.pyplot as plt\n",
    "from datetime import date\n",
    "from datetime import datetime\n",
    "%matplotlib inline"
   ]
  },
  {
   "cell_type": "markdown",
   "metadata": {},
   "source": [
    "### Import data"
   ]
  },
  {
   "cell_type": "code",
   "execution_count": null,
   "metadata": {},
   "outputs": [],
   "source": [
    "path = 'data/'"
   ]
  },
  {
   "cell_type": "code",
   "execution_count": 2,
   "metadata": {},
   "outputs": [],
   "source": [
    "# soil_data=pd.read_csv('data/soil_data.csv')\n",
    "train=pd.read_csv('train_timeseries/train_timeseries.csv')"
   ]
  },
  {
   "cell_type": "code",
   "execution_count": 3,
   "metadata": {},
   "outputs": [],
   "source": [
    "valid=pd.read_csv('validation_timeseries/validation_timeseries.csv')"
   ]
  },
  {
   "cell_type": "code",
   "execution_count": 4,
   "metadata": {},
   "outputs": [],
   "source": [
    "test=pd.read_csv('test_timeseries/test_timeseries.csv')"
   ]
  },
  {
   "cell_type": "code",
   "execution_count": 5,
   "metadata": {},
   "outputs": [
    {
     "name": "stdout",
     "output_type": "stream",
     "text": [
      "Train      19300680  80.95%\n",
      "Validation  2268840   9.52%\n",
      "Test        2271948   9.53%\n",
      "Total      23841468 100.00%\n"
     ]
    }
   ],
   "source": [
    "train_data = train.shape[0]\n",
    "valid_data = valid.shape[0]\n",
    "test_data = test.shape[0]\n",
    "total = train_data+test_data+valid_data\n",
    "\n",
    "print('Train     ',train_data,'', str(round(train_data/total*100,2))+'%')\n",
    "print('Validation ',valid_data,' ', str(round(valid_data/total*100,2))+'%')\n",
    "print('Test       ',test_data,' ', str(round(test_data/total*100,2))+'%')\n",
    "print('Total     ',total,'100.00%')"
   ]
  },
  {
   "cell_type": "markdown",
   "metadata": {},
   "source": [
    "### Data preprocessing"
   ]
  },
  {
   "cell_type": "code",
   "execution_count": 6,
   "metadata": {},
   "outputs": [],
   "source": [
    "# training data preprocessing\n",
    "train['date'] = pd.to_datetime(train['date']) # parse date.\n",
    "train['score'] = train['score'].apply(pd.to_numeric).interpolate()\n",
    "train['drought_level'] = np.floor(train['score']) # classify drought level.\n",
    "train['date'] = train['date'].dt.dayofyear\n",
    "train.drop(columns=['fips', 'score','WS50M_MIN','WS50M_MAX','WS10M_MIN','WS10M_MAX','T2M_MIN','T2M_MAX'], inplace=True) # remove un-necessary columns.\n",
    "train.dropna(inplace=True) # remove all examples containing NaN.\n",
    "\n",
    "# validation data preprocessing\n",
    "valid['date'] = pd.to_datetime(valid['date']) # parse date.\n",
    "valid['score'] = valid['score'].apply(pd.to_numeric).interpolate()\n",
    "valid['drought_level'] = np.floor(valid['score']) # classify drought level.\n",
    "valid['date'] = valid['date'].dt.dayofyear\n",
    "valid.drop(columns=['fips', 'score','WS50M_MIN','WS50M_MAX','WS10M_MIN','WS10M_MAX','T2M_MIN','T2M_MAX'], inplace=True) # remove un-necessary columns.\n",
    "valid.dropna(inplace=True) # remove all examples containing NaN.\n",
    "\n",
    "# testing data preprocessing\n",
    "test['date'] = pd.to_datetime(test['date']) # parse date.\n",
    "test['score'] = test['score'].apply(pd.to_numeric).interpolate()\n",
    "test['drought_level'] = np.floor(test['score']) # classify drought level.\n",
    "test['date'] = test['date'].dt.dayofyear\n",
    "test.drop(columns=['fips', 'score','WS50M_MIN','WS50M_MAX','WS10M_MIN','WS10M_MAX','T2M_MIN','T2M_MAX'], inplace=True) # remove un-necessary columns.\n",
    "test.dropna(inplace=True) # remove all examples containing NaN."
   ]
  },
  {
   "cell_type": "code",
   "execution_count": 53,
   "metadata": {},
   "outputs": [],
   "source": [
    "train_less_features = train.drop(columns=['QV2M','T2M','T2MDEW','T2MWET','WS10M','WS10M_RANGE'])\n",
    "valid_less_features = valid.drop(columns=['QV2M','T2M','T2MDEW','T2MWET','WS10M','WS10M_RANGE'])"
   ]
  },
  {
   "cell_type": "code",
   "execution_count": 55,
   "metadata": {},
   "outputs": [
    {
     "data": {
      "text/html": [
       "<div>\n",
       "<style scoped>\n",
       "    .dataframe tbody tr th:only-of-type {\n",
       "        vertical-align: middle;\n",
       "    }\n",
       "\n",
       "    .dataframe tbody tr th {\n",
       "        vertical-align: top;\n",
       "    }\n",
       "\n",
       "    .dataframe thead th {\n",
       "        text-align: right;\n",
       "    }\n",
       "</style>\n",
       "<table border=\"1\" class=\"dataframe\">\n",
       "  <thead>\n",
       "    <tr style=\"text-align: right;\">\n",
       "      <th></th>\n",
       "      <th>date</th>\n",
       "      <th>PRECTOT</th>\n",
       "      <th>PS</th>\n",
       "      <th>T2M_RANGE</th>\n",
       "      <th>TS</th>\n",
       "      <th>WS50M</th>\n",
       "      <th>WS50M_RANGE</th>\n",
       "      <th>drought_level</th>\n",
       "    </tr>\n",
       "  </thead>\n",
       "  <tbody>\n",
       "    <tr>\n",
       "      <th>15935354</th>\n",
       "      <td>129</td>\n",
       "      <td>0.43</td>\n",
       "      <td>96.36</td>\n",
       "      <td>13.41</td>\n",
       "      <td>23.69</td>\n",
       "      <td>7.87</td>\n",
       "      <td>4.37</td>\n",
       "      <td>0.0</td>\n",
       "    </tr>\n",
       "    <tr>\n",
       "      <th>4184515</th>\n",
       "      <td>72</td>\n",
       "      <td>0.00</td>\n",
       "      <td>99.81</td>\n",
       "      <td>12.97</td>\n",
       "      <td>-0.41</td>\n",
       "      <td>5.57</td>\n",
       "      <td>9.43</td>\n",
       "      <td>0.0</td>\n",
       "    </tr>\n",
       "    <tr>\n",
       "      <th>15559507</th>\n",
       "      <td>170</td>\n",
       "      <td>8.91</td>\n",
       "      <td>92.43</td>\n",
       "      <td>5.35</td>\n",
       "      <td>25.72</td>\n",
       "      <td>7.51</td>\n",
       "      <td>2.39</td>\n",
       "      <td>1.0</td>\n",
       "    </tr>\n",
       "    <tr>\n",
       "      <th>8665020</th>\n",
       "      <td>244</td>\n",
       "      <td>0.13</td>\n",
       "      <td>99.93</td>\n",
       "      <td>11.69</td>\n",
       "      <td>23.38</td>\n",
       "      <td>3.33</td>\n",
       "      <td>3.12</td>\n",
       "      <td>0.0</td>\n",
       "    </tr>\n",
       "    <tr>\n",
       "      <th>10483322</th>\n",
       "      <td>112</td>\n",
       "      <td>0.78</td>\n",
       "      <td>93.45</td>\n",
       "      <td>20.91</td>\n",
       "      <td>12.96</td>\n",
       "      <td>5.30</td>\n",
       "      <td>7.91</td>\n",
       "      <td>2.0</td>\n",
       "    </tr>\n",
       "  </tbody>\n",
       "</table>\n",
       "</div>"
      ],
      "text/plain": [
       "          date  PRECTOT     PS  T2M_RANGE     TS  WS50M  WS50M_RANGE  \\\n",
       "15935354   129     0.43  96.36      13.41  23.69   7.87         4.37   \n",
       "4184515     72     0.00  99.81      12.97  -0.41   5.57         9.43   \n",
       "15559507   170     8.91  92.43       5.35  25.72   7.51         2.39   \n",
       "8665020    244     0.13  99.93      11.69  23.38   3.33         3.12   \n",
       "10483322   112     0.78  93.45      20.91  12.96   5.30         7.91   \n",
       "\n",
       "          drought_level  \n",
       "15935354            0.0  \n",
       "4184515             0.0  \n",
       "15559507            1.0  \n",
       "8665020             0.0  \n",
       "10483322            2.0  "
      ]
     },
     "execution_count": 55,
     "metadata": {},
     "output_type": "execute_result"
    }
   ],
   "source": [
    "train_less_features.head()"
   ]
  },
  {
   "cell_type": "code",
   "execution_count": 7,
   "metadata": {},
   "outputs": [
    {
     "name": "stdout",
     "output_type": "stream",
     "text": [
      "Train      19300677  80.95%\n",
      "Validation  2268838   9.52%\n",
      "Test        2271948   9.53%\n",
      "Total      23841463 100.00%\n"
     ]
    }
   ],
   "source": [
    "train_data = train.shape[0]\n",
    "valid_data = valid.shape[0]\n",
    "test_data = test.shape[0]\n",
    "total = train_data+test_data+valid_data\n",
    "\n",
    "print('Train     ',train_data,'', str(round(train_data/total*100,2))+'%')\n",
    "print('Validation ',valid_data,' ', str(round(valid_data/total*100,2))+'%')\n",
    "print('Test       ',test_data,' ', str(round(test_data/total*100,2))+'%')\n",
    "print('Total     ',total,'100.00%')"
   ]
  },
  {
   "cell_type": "code",
   "execution_count": 8,
   "metadata": {},
   "outputs": [
    {
     "name": "stdout",
     "output_type": "stream",
     "text": [
      "Train: \n",
      "0.0    12835782\n",
      "1.0     2833661\n",
      "2.0     1804637\n",
      "3.0     1147491\n",
      "4.0      542460\n",
      "5.0      136646\n",
      "Name: drought_level, dtype: int64\n",
      "\n",
      "Valid: \n",
      "0.0    1725196\n",
      "1.0     324878\n",
      "2.0     140753\n",
      "3.0      58247\n",
      "4.0      17843\n",
      "5.0       1921\n",
      "Name: drought_level, dtype: int64\n",
      "\n",
      "Test: \n",
      "0.0    1874122\n",
      "1.0     228599\n",
      "2.0     110709\n",
      "3.0      44369\n",
      "4.0      12820\n",
      "5.0       1329\n",
      "Name: drought_level, dtype: int64\n",
      "\n"
     ]
    }
   ],
   "source": [
    "print(\"Train: \")\n",
    "print(train['drought_level'].value_counts())\n",
    "print()\n",
    "print(\"Valid: \")\n",
    "print(valid['drought_level'].value_counts())\n",
    "print()\n",
    "print(\"Test: \")\n",
    "print(test['drought_level'].value_counts())\n",
    "print()"
   ]
  },
  {
   "cell_type": "code",
   "execution_count": 39,
   "metadata": {},
   "outputs": [],
   "source": [
    "train_0 = train[train.drought_level==0.0]\n",
    "train_1 = train[train.drought_level==1.0]\n",
    "train_2 = train[train.drought_level==2.0]\n",
    "train_3 = train[train.drought_level==3.0]\n",
    "train_4 = train[train.drought_level==4.0]\n",
    "train_5 = train[train.drought_level==5.0]"
   ]
  },
  {
   "cell_type": "code",
   "execution_count": 40,
   "metadata": {},
   "outputs": [],
   "source": [
    "from sklearn.utils import resample\n",
    "train_0_small = resample(train_0, \n",
    "                                 replace=False,    # sample without replacement\n",
    "                                 n_samples=136646,     # to match class 5\n",
    "                                 random_state=123) # reproducible results\n",
    "train_1_small = resample(train_1, \n",
    "                                 replace=False,    # sample without replacement\n",
    "                                 n_samples=136646,     # to match class 5\n",
    "                                 random_state=123) # reproducible results\n",
    "train_2_small = resample(train_2, \n",
    "                                 replace=False,    # sample without replacement\n",
    "                                 n_samples=136646,     # to match class 5\n",
    "                                 random_state=123) # reproducible results\n",
    "train_3_small = resample(train_3, \n",
    "                                 replace=False,    # sample without replacement\n",
    "                                 n_samples=136646,     # to match class 5\n",
    "                                 random_state=123) # reproducible results\n",
    "train_4_small = resample(train_4, \n",
    "                                 replace=False,    # sample without replacement\n",
    "                                 n_samples=136646,     # to match class 5\n",
    "                                 random_state=123) # reproducible results"
   ]
  },
  {
   "cell_type": "code",
   "execution_count": 41,
   "metadata": {},
   "outputs": [
    {
     "name": "stdout",
     "output_type": "stream",
     "text": [
      "Train Downsampled: \n",
      "5.0    136646\n",
      "4.0    136646\n",
      "1.0    136646\n",
      "3.0    136646\n",
      "2.0    136646\n",
      "0.0    136646\n",
      "Name: drought_level, dtype: int64\n",
      "\n"
     ]
    },
    {
     "data": {
      "text/html": [
       "<div>\n",
       "<style scoped>\n",
       "    .dataframe tbody tr th:only-of-type {\n",
       "        vertical-align: middle;\n",
       "    }\n",
       "\n",
       "    .dataframe tbody tr th {\n",
       "        vertical-align: top;\n",
       "    }\n",
       "\n",
       "    .dataframe thead th {\n",
       "        text-align: right;\n",
       "    }\n",
       "</style>\n",
       "<table border=\"1\" class=\"dataframe\">\n",
       "  <thead>\n",
       "    <tr style=\"text-align: right;\">\n",
       "      <th></th>\n",
       "      <th>date</th>\n",
       "      <th>PRECTOT</th>\n",
       "      <th>PS</th>\n",
       "      <th>QV2M</th>\n",
       "      <th>T2M</th>\n",
       "      <th>T2MDEW</th>\n",
       "      <th>T2MWET</th>\n",
       "      <th>T2M_RANGE</th>\n",
       "      <th>TS</th>\n",
       "      <th>WS10M</th>\n",
       "      <th>WS10M_RANGE</th>\n",
       "      <th>WS50M</th>\n",
       "      <th>WS50M_RANGE</th>\n",
       "      <th>drought_level</th>\n",
       "    </tr>\n",
       "  </thead>\n",
       "  <tbody>\n",
       "    <tr>\n",
       "      <th>16324494</th>\n",
       "      <td>232</td>\n",
       "      <td>2.17</td>\n",
       "      <td>89.19</td>\n",
       "      <td>11.25</td>\n",
       "      <td>24.16</td>\n",
       "      <td>13.81</td>\n",
       "      <td>13.81</td>\n",
       "      <td>9.84</td>\n",
       "      <td>25.48</td>\n",
       "      <td>3.31</td>\n",
       "      <td>2.09</td>\n",
       "      <td>4.73</td>\n",
       "      <td>4.11</td>\n",
       "      <td>3.0</td>\n",
       "    </tr>\n",
       "    <tr>\n",
       "      <th>5392618</th>\n",
       "      <td>147</td>\n",
       "      <td>0.08</td>\n",
       "      <td>95.16</td>\n",
       "      <td>12.62</td>\n",
       "      <td>28.57</td>\n",
       "      <td>16.78</td>\n",
       "      <td>16.79</td>\n",
       "      <td>13.92</td>\n",
       "      <td>28.92</td>\n",
       "      <td>10.24</td>\n",
       "      <td>6.25</td>\n",
       "      <td>13.77</td>\n",
       "      <td>7.32</td>\n",
       "      <td>1.0</td>\n",
       "    </tr>\n",
       "    <tr>\n",
       "      <th>4308292</th>\n",
       "      <td>14</td>\n",
       "      <td>0.04</td>\n",
       "      <td>100.33</td>\n",
       "      <td>2.16</td>\n",
       "      <td>-4.90</td>\n",
       "      <td>-7.29</td>\n",
       "      <td>-7.23</td>\n",
       "      <td>8.82</td>\n",
       "      <td>-5.32</td>\n",
       "      <td>2.65</td>\n",
       "      <td>2.09</td>\n",
       "      <td>4.13</td>\n",
       "      <td>2.00</td>\n",
       "      <td>0.0</td>\n",
       "    </tr>\n",
       "    <tr>\n",
       "      <th>1235337</th>\n",
       "      <td>279</td>\n",
       "      <td>0.00</td>\n",
       "      <td>97.97</td>\n",
       "      <td>10.04</td>\n",
       "      <td>18.95</td>\n",
       "      <td>13.56</td>\n",
       "      <td>13.56</td>\n",
       "      <td>8.47</td>\n",
       "      <td>20.08</td>\n",
       "      <td>3.11</td>\n",
       "      <td>5.38</td>\n",
       "      <td>3.64</td>\n",
       "      <td>6.09</td>\n",
       "      <td>5.0</td>\n",
       "    </tr>\n",
       "    <tr>\n",
       "      <th>5702295</th>\n",
       "      <td>55</td>\n",
       "      <td>0.02</td>\n",
       "      <td>89.91</td>\n",
       "      <td>2.55</td>\n",
       "      <td>-0.09</td>\n",
       "      <td>-6.65</td>\n",
       "      <td>-6.53</td>\n",
       "      <td>8.38</td>\n",
       "      <td>0.56</td>\n",
       "      <td>3.40</td>\n",
       "      <td>2.92</td>\n",
       "      <td>4.97</td>\n",
       "      <td>1.75</td>\n",
       "      <td>3.0</td>\n",
       "    </tr>\n",
       "  </tbody>\n",
       "</table>\n",
       "</div>"
      ],
      "text/plain": [
       "          date  PRECTOT      PS   QV2M    T2M  T2MDEW  T2MWET  T2M_RANGE  \\\n",
       "16324494   232     2.17   89.19  11.25  24.16   13.81   13.81       9.84   \n",
       "5392618    147     0.08   95.16  12.62  28.57   16.78   16.79      13.92   \n",
       "4308292     14     0.04  100.33   2.16  -4.90   -7.29   -7.23       8.82   \n",
       "1235337    279     0.00   97.97  10.04  18.95   13.56   13.56       8.47   \n",
       "5702295     55     0.02   89.91   2.55  -0.09   -6.65   -6.53       8.38   \n",
       "\n",
       "             TS  WS10M  WS10M_RANGE  WS50M  WS50M_RANGE  drought_level  \n",
       "16324494  25.48   3.31         2.09   4.73         4.11            3.0  \n",
       "5392618   28.92  10.24         6.25  13.77         7.32            1.0  \n",
       "4308292   -5.32   2.65         2.09   4.13         2.00            0.0  \n",
       "1235337   20.08   3.11         5.38   3.64         6.09            5.0  \n",
       "5702295    0.56   3.40         2.92   4.97         1.75            3.0  "
      ]
     },
     "execution_count": 41,
     "metadata": {},
     "output_type": "execute_result"
    }
   ],
   "source": [
    "train_small = pd.concat([train_0_small,train_1_small,train_2_small,train_3_small,train_4_small,train_5])\n",
    "train_small = train_small.sample(frac=1)\n",
    "print(\"Train Downsampled: \")\n",
    "print(train_small['drought_level'].value_counts())\n",
    "print()\n",
    "train_small.head()"
   ]
  },
  {
   "cell_type": "markdown",
   "metadata": {},
   "source": [
    "### Machine learning"
   ]
  },
  {
   "cell_type": "code",
   "execution_count": 9,
   "metadata": {},
   "outputs": [
    {
     "data": {
      "text/html": [
       "<div>\n",
       "<style scoped>\n",
       "    .dataframe tbody tr th:only-of-type {\n",
       "        vertical-align: middle;\n",
       "    }\n",
       "\n",
       "    .dataframe tbody tr th {\n",
       "        vertical-align: top;\n",
       "    }\n",
       "\n",
       "    .dataframe thead th {\n",
       "        text-align: right;\n",
       "    }\n",
       "</style>\n",
       "<table border=\"1\" class=\"dataframe\">\n",
       "  <thead>\n",
       "    <tr style=\"text-align: right;\">\n",
       "      <th></th>\n",
       "      <th>date</th>\n",
       "      <th>PRECTOT</th>\n",
       "      <th>PS</th>\n",
       "      <th>QV2M</th>\n",
       "      <th>T2M</th>\n",
       "      <th>T2MDEW</th>\n",
       "      <th>T2MWET</th>\n",
       "      <th>T2M_RANGE</th>\n",
       "      <th>TS</th>\n",
       "      <th>WS10M</th>\n",
       "      <th>WS10M_RANGE</th>\n",
       "      <th>WS50M</th>\n",
       "      <th>WS50M_RANGE</th>\n",
       "      <th>drought_level</th>\n",
       "    </tr>\n",
       "  </thead>\n",
       "  <tbody>\n",
       "    <tr>\n",
       "      <th>3</th>\n",
       "      <td>4</td>\n",
       "      <td>15.95</td>\n",
       "      <td>100.29</td>\n",
       "      <td>6.42</td>\n",
       "      <td>11.40</td>\n",
       "      <td>6.09</td>\n",
       "      <td>6.10</td>\n",
       "      <td>15.92</td>\n",
       "      <td>11.31</td>\n",
       "      <td>3.84</td>\n",
       "      <td>3.59</td>\n",
       "      <td>6.73</td>\n",
       "      <td>5.58</td>\n",
       "      <td>1.0</td>\n",
       "    </tr>\n",
       "    <tr>\n",
       "      <th>4</th>\n",
       "      <td>5</td>\n",
       "      <td>0.00</td>\n",
       "      <td>101.15</td>\n",
       "      <td>2.95</td>\n",
       "      <td>3.86</td>\n",
       "      <td>-3.29</td>\n",
       "      <td>-3.20</td>\n",
       "      <td>13.48</td>\n",
       "      <td>2.65</td>\n",
       "      <td>1.60</td>\n",
       "      <td>1.98</td>\n",
       "      <td>2.94</td>\n",
       "      <td>4.19</td>\n",
       "      <td>1.0</td>\n",
       "    </tr>\n",
       "    <tr>\n",
       "      <th>5</th>\n",
       "      <td>6</td>\n",
       "      <td>0.01</td>\n",
       "      <td>101.31</td>\n",
       "      <td>3.49</td>\n",
       "      <td>4.99</td>\n",
       "      <td>-1.11</td>\n",
       "      <td>-1.07</td>\n",
       "      <td>15.85</td>\n",
       "      <td>3.32</td>\n",
       "      <td>1.55</td>\n",
       "      <td>2.35</td>\n",
       "      <td>2.95</td>\n",
       "      <td>5.17</td>\n",
       "      <td>1.0</td>\n",
       "    </tr>\n",
       "    <tr>\n",
       "      <th>6</th>\n",
       "      <td>7</td>\n",
       "      <td>0.01</td>\n",
       "      <td>101.37</td>\n",
       "      <td>3.93</td>\n",
       "      <td>5.99</td>\n",
       "      <td>0.55</td>\n",
       "      <td>0.58</td>\n",
       "      <td>13.88</td>\n",
       "      <td>5.69</td>\n",
       "      <td>2.31</td>\n",
       "      <td>1.69</td>\n",
       "      <td>5.02</td>\n",
       "      <td>4.03</td>\n",
       "      <td>1.0</td>\n",
       "    </tr>\n",
       "    <tr>\n",
       "      <th>7</th>\n",
       "      <td>8</td>\n",
       "      <td>1.02</td>\n",
       "      <td>100.77</td>\n",
       "      <td>5.71</td>\n",
       "      <td>8.69</td>\n",
       "      <td>5.33</td>\n",
       "      <td>5.34</td>\n",
       "      <td>13.04</td>\n",
       "      <td>8.75</td>\n",
       "      <td>2.05</td>\n",
       "      <td>1.40</td>\n",
       "      <td>4.17</td>\n",
       "      <td>3.72</td>\n",
       "      <td>1.0</td>\n",
       "    </tr>\n",
       "  </tbody>\n",
       "</table>\n",
       "</div>"
      ],
      "text/plain": [
       "   date  PRECTOT      PS  QV2M    T2M  T2MDEW  T2MWET  T2M_RANGE     TS  \\\n",
       "3     4    15.95  100.29  6.42  11.40    6.09    6.10      15.92  11.31   \n",
       "4     5     0.00  101.15  2.95   3.86   -3.29   -3.20      13.48   2.65   \n",
       "5     6     0.01  101.31  3.49   4.99   -1.11   -1.07      15.85   3.32   \n",
       "6     7     0.01  101.37  3.93   5.99    0.55    0.58      13.88   5.69   \n",
       "7     8     1.02  100.77  5.71   8.69    5.33    5.34      13.04   8.75   \n",
       "\n",
       "   WS10M  WS10M_RANGE  WS50M  WS50M_RANGE  drought_level  \n",
       "3   3.84         3.59   6.73         5.58            1.0  \n",
       "4   1.60         1.98   2.94         4.19            1.0  \n",
       "5   1.55         2.35   2.95         5.17            1.0  \n",
       "6   2.31         1.69   5.02         4.03            1.0  \n",
       "7   2.05         1.40   4.17         3.72            1.0  "
      ]
     },
     "execution_count": 9,
     "metadata": {},
     "output_type": "execute_result"
    }
   ],
   "source": [
    "train.head()"
   ]
  },
  {
   "cell_type": "code",
   "execution_count": 10,
   "metadata": {},
   "outputs": [],
   "source": [
    "X_valid = valid.iloc[:,:-1]\n",
    "y_valid = valid.iloc[:,-1]"
   ]
  },
  {
   "cell_type": "code",
   "execution_count": 57,
   "metadata": {},
   "outputs": [],
   "source": [
    "X_valid_less_features = valid_less_features.iloc[:,:-1]\n",
    "y_valid_less_features = valid_less_features.iloc[:,-1]"
   ]
  },
  {
   "cell_type": "code",
   "execution_count": 56,
   "metadata": {},
   "outputs": [],
   "source": [
    "# train = train.sample(frac=1) #shuffle\n",
    "\n",
    "# # Full dataset\n",
    "X_train_large = train.iloc[:,:-1] \n",
    "y_train_large = train.iloc[:,-1]\n",
    "\n",
    "# # Downsampled and Balanced\n",
    "X_train = train_small.iloc[:,:-1]\n",
    "y_train = train_small.iloc[:,-1]\n",
    "\n",
    "# Dropped correlated and bad features\n",
    "X_train_less_features = train_less_features.iloc[:,:-1]\n",
    "y_train_less_features = train_less_features.iloc[:,-1]"
   ]
  },
  {
   "cell_type": "code",
   "execution_count": 55,
   "metadata": {
    "scrolled": true
   },
   "outputs": [
    {
     "data": {
      "text/plain": [
       "0.0    12835782\n",
       "1.0     2833661\n",
       "2.0     1804637\n",
       "3.0     1147491\n",
       "4.0      542460\n",
       "5.0      136646\n",
       "Name: drought_level, dtype: int64"
      ]
     },
     "execution_count": 55,
     "metadata": {},
     "output_type": "execute_result"
    }
   ],
   "source": [
    "y_train_large.value_counts()"
   ]
  },
  {
   "cell_type": "code",
   "execution_count": 48,
   "metadata": {},
   "outputs": [],
   "source": [
    "# Random Stratified Baseline to Beat\n",
    "\n",
    "from sklearn.dummy import DummyClassifier\n",
    "import sklearn\n",
    "\n",
    "dummy_clf = DummyClassifier(strategy= \"stratified\")\n",
    "dummy_clf.fit(X_valid, y_valid)\n",
    "ydummyHat=dummy_clf.predict(X_valid)\n",
    "f_macro1 = sklearn.metrics.f1_score(ydummyHat, y_valid, average = 'macro')"
   ]
  },
  {
   "cell_type": "code",
   "execution_count": 49,
   "metadata": {},
   "outputs": [
    {
     "data": {
      "text/plain": [
       "0.16674494201154835"
      ]
     },
     "execution_count": 49,
     "metadata": {},
     "output_type": "execute_result"
    }
   ],
   "source": [
    "f_macro1"
   ]
  },
  {
   "cell_type": "code",
   "execution_count": 27,
   "metadata": {},
   "outputs": [],
   "source": [
    "# SVM classification\n",
    "from sklearn.pipeline import make_pipeline\n",
    "from sklearn.preprocessing import StandardScaler\n",
    "from sklearn.svm import SVC\n",
    "from sklearn.model_selection import GridSearchCV, RandomizedSearchCV\n",
    "from sklearn.metrics import accuracy_score, f1_score\n",
    "from sklearn.metrics import confusion_matrix, roc_auc_score, recall_score, precision_score\n"
   ]
  },
  {
   "cell_type": "code",
   "execution_count": 22,
   "metadata": {},
   "outputs": [
    {
     "name": "stdout",
     "output_type": "stream",
     "text": [
      "decision_score: 0.31964556305915187\n",
      "f1_macro:  0.14498155544895558\n",
      "time:  29.848328590393066\n"
     ]
    }
   ],
   "source": [
    "from sklearn.metrics import f1_score\n",
    "from sklearn.tree import DecisionTreeClassifier\n",
    "import time\n",
    "\n",
    "# Train on balanced data\n",
    "decision = DecisionTreeClassifier(criterion= 'entropy', random_state=0)\n",
    "start = time.time()\n",
    "decision.fit(X_train, y_train)\n",
    "end = time.time()\n",
    "pred = decision.predict(X_valid)\n",
    "decision_score = decision.score(X_valid, y_valid)\n",
    "print('decision_score:', decision_score)\n",
    "f1=f1_score(y_valid, pred, average='macro',labels=[0.,1.,2.,3.,4.,5.])\n",
    "print('f1_macro: ', f1)\n",
    "print(\"time: \", end-start)"
   ]
  },
  {
   "cell_type": "code",
   "execution_count": 58,
   "metadata": {},
   "outputs": [
    {
     "name": "stdout",
     "output_type": "stream",
     "text": [
      "decision_score: 0.5801943549958173\n",
      "f1_macro:  0.19195217717940538\n",
      "time:  1106.1368505954742\n"
     ]
    }
   ],
   "source": [
    "# Train on full data\n",
    "decision = DecisionTreeClassifier(criterion= 'entropy', random_state=0)\n",
    "start = time.time()\n",
    "decision.fit(X_train_large, y_train_large)\n",
    "end = time.time()\n",
    "pred = decision.predict(X_valid)\n",
    "decision_score = decision.score(X_valid, y_valid)\n",
    "print('decision_score:', decision_score)\n",
    "f1=f1_score(y_valid, pred, average='macro',labels=[0.,1.,2.,3.,4.,5.])\n",
    "print('f1_macro: ', f1)\n",
    "print(\"time: \", end-start)"
   ]
  },
  {
   "cell_type": "code",
   "execution_count": 116,
   "metadata": {},
   "outputs": [
    {
     "data": {
      "text/plain": [
       "0.9275289214750622"
      ]
     },
     "execution_count": 116,
     "metadata": {},
     "output_type": "execute_result"
    }
   ],
   "source": [
    "# Score on Train Set -> Overfitting!\n",
    "pred_2 = decision.predict(X_train[:1000000])\n",
    "f1_train=f1_score(y_train[:1000000], pred_2[:1000000], average='macro',labels=[0.,1.,2.,3.,4.,5.])\n",
    "f1_train"
   ]
  },
  {
   "cell_type": "code",
   "execution_count": 113,
   "metadata": {},
   "outputs": [
    {
     "name": "stdout",
     "output_type": "stream",
     "text": [
      "date: 0.13\n",
      "PRECTOT: 0.07\n",
      "PS: 0.11\n",
      "QV2M: 0.06\n",
      "T2M: 0.07\n",
      "T2MDEW: 0.04\n",
      "T2MWET: 0.04\n",
      "T2M_RANGE: 0.09\n",
      "TS: 0.09\n",
      "WS10M: 0.07\n",
      "WS10M_RANGE: 0.07\n",
      "WS50M: 0.08\n",
      "WS50M_RANGE: 0.08\n"
     ]
    }
   ],
   "source": [
    "# Get Feature importances\n",
    "feature_names=['date','PRECTOT','PS','QV2M','T2M','T2MDEW','T2MWET','T2M_RANGE','TS','WS10M','WS10M_RANGE','WS50M','WS50M_RANGE']\n",
    "importances = decision.feature_importances_\n",
    "for i in range(len(importances)):\n",
    "    print(feature_names[i] + \": \" + str(np.round(importances[i],2)))"
   ]
  },
  {
   "cell_type": "code",
   "execution_count": 104,
   "metadata": {},
   "outputs": [],
   "source": [
    "import graphviz"
   ]
  },
  {
   "cell_type": "code",
   "execution_count": 108,
   "metadata": {
    "scrolled": true
   },
   "outputs": [
    {
     "data": {
      "text/plain": [
       "'Decision Tree.pdf'"
      ]
     },
     "execution_count": 108,
     "metadata": {},
     "output_type": "execute_result"
    }
   ],
   "source": [
    "# Graph Part of the decsion tree\n",
    "from sklearn import tree\n",
    "dot_data = tree.export_graphviz(decision, max_depth=10,proportion=False,rotate=True,rounded=True,filled=True,class_names=['No Drought','D0','D1','D2','D3','D4'],feature_names=['date','PRECTOT','PS','QV2M','T2M','T2MDEW','T2MWET','T2M_RANGE','TS','WS10M','WS10M_RANGE','WS50M','WS50M_RANGE']) \n",
    "graph = graphviz.Source(dot_data) \n",
    "graph.render(\"Decision Tree\") "
   ]
  },
  {
   "cell_type": "code",
   "execution_count": 147,
   "metadata": {},
   "outputs": [],
   "source": [
    "# Graph over min_samples_split to try to regularize\n",
    "\n",
    "f1_test_list = []\n",
    "f1_train_list = []\n",
    "\n",
    "splits = np.arange(2,10000,100)\n",
    "\n",
    "for i in splits:\n",
    "    # Train on unbalanced data\n",
    "    decision_bal = DecisionTreeClassifier(criterion= 'entropy', random_state=0,class_weight='balanced',min_samples_split=i)\n",
    "    start = time.time()\n",
    "    decision_bal.fit(X_train_large[:100000], y_train_large[:100000])\n",
    "    end = time.time()\n",
    "    pred = decision_bal.predict(X_valid[:10000])\n",
    "    decision_bal_score = decision_bal.score(X_valid[:10000], y_valid[:10000])\n",
    "    f1=f1_score(y_valid[:10000], pred, average='macro',labels=[0.,1.,2.,3.,4.,5.])\n",
    "    pred_2 = decision_bal.predict(X_train_large[:10000])\n",
    "    f1_train=f1_score(y_train_large[:10000], pred_2[:10000], average='macro',labels=[0.,1.,2.,3.,4.,5.])\n",
    "    f1_train\n",
    "    f1_test_list.append(f1)\n",
    "    f1_train_list.append(f1_train)\n"
   ]
  },
  {
   "cell_type": "code",
   "execution_count": 171,
   "metadata": {},
   "outputs": [
    {
     "data": {
      "image/png": "[encoded data removed]",
      "text/plain": [
       "<Figure size 432x288 with 1 Axes>"
      ]
     },
     "metadata": {
      "needs_background": "light"
     },
     "output_type": "display_data"
    }
   ],
   "source": [
    "plt.plot(splits,f1_test_list[:100])\n",
    "plt.plot(splits,f1_train_list[:100])\n",
    "plt.ylabel('F1 Score')\n",
    "plt.xlabel('min_samples_split')\n",
    "plt.legend(['Test','Train'])\n",
    "plt.savefig('DecsionTreeSplit',dpi=1000)"
   ]
  },
  {
   "cell_type": "code",
   "execution_count": 151,
   "metadata": {},
   "outputs": [
    {
     "name": "stdout",
     "output_type": "stream",
     "text": [
      "0.2007575255195498\n",
      "2602\n"
     ]
    }
   ],
   "source": [
    "# Find max point\n",
    "print(max(f1_test_list))\n",
    "print(splits[f1_test_list.index(max(f1_test_list))])"
   ]
  },
  {
   "cell_type": "code",
   "execution_count": 152,
   "metadata": {},
   "outputs": [],
   "source": [
    "# Try max point\n",
    "decision_bal = DecisionTreeClassifier(criterion= 'entropy', random_state=0,class_weight='balanced',min_samples_split=2600)\n",
    "start = time.time()\n",
    "decision_bal.fit(X_train_large, y_train_large)\n",
    "end = time.time()\n",
    "pred = decision_bal.predict(X_valid)\n",
    "decision_bal_score = decision_bal.score(X_valid, y_valid)\n",
    "f1=f1_score(y_valid, pred, average='macro',labels=[0.,1.,2.,3.,4.,5.])\n",
    "pred_2 = decision_bal.predict(X_train_large)\n",
    "f1_train=f1_score(y_train_large, pred_2, average='macro',labels=[0.,1.,2.,3.,4.,5.])\n",
    "f1_train"
   ]
  },
  {
   "cell_type": "code",
   "execution_count": 153,
   "metadata": {},
   "outputs": [
    {
     "name": "stdout",
     "output_type": "stream",
     "text": [
      "0.23810008965694254\n",
      "0.16328176563672409\n"
     ]
    }
   ],
   "source": [
    "print(f1_train)\n",
    "print(f1)"
   ]
  },
  {
   "cell_type": "code",
   "execution_count": 164,
   "metadata": {},
   "outputs": [
    {
     "data": {
      "text/plain": [
       "0.2255504100224359"
      ]
     },
     "execution_count": 164,
     "metadata": {},
     "output_type": "execute_result"
    }
   ],
   "source": [
    "# Try another high point\n",
    "decision_bal = DecisionTreeClassifier(criterion= 'entropy', random_state=0,class_weight='balanced',min_samples_split=7000)\n",
    "start = time.time()\n",
    "decision_bal.fit(X_train_large, y_train_large)\n",
    "end = time.time()\n",
    "pred = decision_bal.predict(X_valid)\n",
    "decision_bal_score = decision_bal.score(X_valid, y_valid)\n",
    "f1=f1_score(y_valid, pred, average='macro',labels=[0.,1.,2.,3.,4.,5.])\n",
    "pred_2 = decision_bal.predict(X_train_large)\n",
    "f1_train=f1_score(y_train_large, pred_2, average='macro',labels=[0.,1.,2.,3.,4.,5.])\n",
    "f1_train"
   ]
  },
  {
   "cell_type": "code",
   "execution_count": 165,
   "metadata": {},
   "outputs": [
    {
     "data": {
      "text/plain": [
       "0.168248206543683"
      ]
     },
     "execution_count": 165,
     "metadata": {},
     "output_type": "execute_result"
    }
   ],
   "source": [
    "f1"
   ]
  },
  {
   "cell_type": "code",
   "execution_count": 43,
   "metadata": {},
   "outputs": [],
   "source": [
    "# Graph over min_samples_split to try to regularize for balanced data\n",
    "\n",
    "f1_test_list = []\n",
    "f1_train_list = []\n",
    "\n",
    "splits = np.arange(2,10000,1000)\n",
    "\n",
    "for i in splits:\n",
    "    # Train on unbalanced data\n",
    "    decision_bal = DecisionTreeClassifier(criterion= 'entropy', random_state=0,class_weight='balanced',min_samples_split=i)\n",
    "    start = time.time()\n",
    "    decision_bal.fit(X_train[:100000], y_train[:100000])\n",
    "    end = time.time()\n",
    "    pred = decision_bal.predict(X_valid[:10000])\n",
    "    decision_bal_score = decision_bal.score(X_valid[:10000], y_valid[:10000])\n",
    "    f1=f1_score(y_valid[:10000], pred, average='macro',labels=[0.,1.,2.,3.,4.,5.])\n",
    "    pred_2 = decision_bal.predict(X_train[:10000])\n",
    "    f1_train=f1_score(y_train[:10000], pred_2[:10000], average='macro',labels=[0.,1.,2.,3.,4.,5.])\n",
    "    f1_train\n",
    "    f1_test_list.append(f1)\n",
    "    f1_train_list.append(f1_train)\n"
   ]
  },
  {
   "cell_type": "code",
   "execution_count": 44,
   "metadata": {},
   "outputs": [
    {
     "data": {
      "image/png": "[encoded data removed]",
      "text/plain": [
       "<Figure size 432x288 with 1 Axes>"
      ]
     },
     "metadata": {
      "needs_background": "light"
     },
     "output_type": "display_data"
    }
   ],
   "source": [
    "plt.plot(splits,f1_test_list[:100])\n",
    "plt.plot(splits,f1_train_list[:100])\n",
    "plt.ylabel('F1 Score')\n",
    "plt.xlabel('min_samples_split')\n",
    "plt.legend(['Test','Train'])\n",
    "plt.savefig('DecsionTreeSplit',dpi=1000)"
   ]
  },
  {
   "cell_type": "code",
   "execution_count": 60,
   "metadata": {},
   "outputs": [
    {
     "name": "stdout",
     "output_type": "stream",
     "text": [
      "decision_score: 0.5504430021006348\n",
      "f1_macro:  0.18044866447586347\n",
      "time:  529.9086799621582\n"
     ]
    }
   ],
   "source": [
    "# Train on full data less features\n",
    "decision = DecisionTreeClassifier(criterion= 'entropy', random_state=0)\n",
    "start = time.time()\n",
    "decision.fit(X_train_less_features, y_train_less_features)\n",
    "end = time.time()\n",
    "pred = decision.predict(X_valid_less_features)\n",
    "decision_score = decision.score(X_valid_less_features, y_valid_less_features)\n",
    "print('decision_score:', decision_score)\n",
    "f1=f1_score(y_valid_less_features, pred, average='macro',labels=[0.,1.,2.,3.,4.,5.])\n",
    "print('f1_macro: ', f1)\n",
    "print(\"time: \", end-start)"
   ]
  },
  {
   "cell_type": "code",
   "execution_count": 67,
   "metadata": {},
   "outputs": [],
   "source": [
    "# Graph over min_samples_split to try to regularize for less features\n",
    "\n",
    "f1_test_list = []\n",
    "f1_train_list = []\n",
    "\n",
    "splits = np.arange(2,100000,1000)\n",
    "\n",
    "for i in splits:\n",
    "    # Train on unbalanced data\n",
    "    decision_bal = DecisionTreeClassifier(criterion= 'entropy', random_state=0,class_weight='balanced',min_samples_split=i)\n",
    "    start = time.time()\n",
    "    decision_bal.fit(X_train_less_features[:100000], y_train_less_features[:100000])\n",
    "    end = time.time()\n",
    "    pred = decision_bal.predict(X_valid_less_features[:10000])\n",
    "    decision_bal_score = decision_bal.score(X_valid_less_features[:10000], y_valid_less_features[:10000])\n",
    "    f1=f1_score(y_valid_less_features[:10000], pred, average='macro',labels=[0.,1.,2.,3.,4.,5.])\n",
    "    pred_2 = decision_bal.predict(X_train_less_features[:10000])\n",
    "    f1_train=f1_score(y_train_less_features[:10000], pred_2[:10000], average='macro',labels=[0.,1.,2.,3.,4.,5.])\n",
    "    f1_train\n",
    "    f1_test_list.append(f1)\n",
    "    f1_train_list.append(f1_train)\n"
   ]
  },
  {
   "cell_type": "code",
   "execution_count": 68,
   "metadata": {},
   "outputs": [
    {
     "data": {
      "image/png": "[encoded data removed]",
      "text/plain": [
       "<Figure size 432x288 with 1 Axes>"
      ]
     },
     "metadata": {
      "needs_background": "light"
     },
     "output_type": "display_data"
    }
   ],
   "source": [
    "plt.plot(splits,f1_test_list[:100])\n",
    "plt.plot(splits,f1_train_list[:100])\n",
    "plt.ylabel('F1 Score')\n",
    "plt.xlabel('min_samples_split')\n",
    "plt.legend(['Test','Train'])\n",
    "plt.savefig('DecsionTreeSplit',dpi=1000)"
   ]
  },
  {
   "cell_type": "code",
   "execution_count": 48,
   "metadata": {},
   "outputs": [
    {
     "name": "stdout",
     "output_type": "stream",
     "text": [
      "RandomForest_score: 0.459\n",
      "f1_macro:  0.17312698175924945\n",
      "time:  608.8082270622253\n"
     ]
    }
   ],
   "source": [
    "# Random Forest on Balanced Data\n",
    "\n",
    "from sklearn.ensemble import RandomForestClassifier\n",
    "RandomForest = RandomForestClassifier(n_estimators=1000,criterion='entropy')\n",
    "start = time.time()\n",
    "RandomForest.fit(X_train[:100000], y_train[:100000])\n",
    "end = time.time()\n",
    "pred = RandomForest.predict(X_valid[:10000])\n",
    "RandomForest_score = RandomForest.score(X_valid[:10000], y_valid[:10000])\n",
    "print('RandomForest_score:', RandomForest_score)\n",
    "f1=f1_score(y_valid[:10000], pred, average='macro',labels=[0.,1.,2.,3.,4.,5.])\n",
    "print('f1_macro: ', f1)\n",
    "print(\"time: \", end-start)"
   ]
  },
  {
   "cell_type": "code",
   "execution_count": 56,
   "metadata": {},
   "outputs": [
    {
     "name": "stdout",
     "output_type": "stream",
     "text": [
      "RandomForest_score: 0.769\n",
      "f1_macro:  0.1463002736994587\n",
      "time:  551.4226350784302\n"
     ]
    },
    {
     "name": "stderr",
     "output_type": "stream",
     "text": [
      "C:\\Users\\jazka\\anaconda3\\lib\\site-packages\\sklearn\\metrics\\_classification.py:1464: UndefinedMetricWarning: F-score is ill-defined and being set to 0.0 in labels with no true nor predicted samples. Use `zero_division` parameter to control this behavior.\n",
      "  _warn_prf(\n"
     ]
    }
   ],
   "source": [
    "# Random Forest on Unbalanced Data\n",
    "\n",
    "from sklearn.ensemble import RandomForestClassifier\n",
    "RandomForest = RandomForestClassifier(n_estimators=1000,criterion='entropy')\n",
    "start = time.time()\n",
    "RandomForest.fit(X_train_large[:100000], y_train_large[:100000])\n",
    "end = time.time()\n",
    "pred = RandomForest.predict(X_valid[:10000])\n",
    "RandomForest_score = RandomForest.score(X_valid[:10000], y_valid[:10000])\n",
    "print('RandomForest_score:', RandomForest_score)\n",
    "f1=f1_score(y_valid[:10000], pred, average='macro',labels=[0.,1.,2.,3.,4.,5.])\n",
    "print('f1_macro: ', f1)\n",
    "print(\"time: \", end-start)"
   ]
  },
  {
   "cell_type": "code",
   "execution_count": 50,
   "metadata": {},
   "outputs": [
    {
     "name": "stdout",
     "output_type": "stream",
     "text": [
      "[Pipeline] .... (step 1 of 2) Processing standardscaler, total=   0.1s\n",
      "[LibSVM][Pipeline] ............... (step 2 of 2) Processing svc, total=18.1min\n",
      "0.1576586011457768\n"
     ]
    }
   ],
   "source": [
    "# SVM with Balanced Data\n",
    "pipeline_svm = make_pipeline(StandardScaler(), SVC(kernel='linear', class_weight = 'balanced',verbose=True),verbose=True)\n",
    "model = pipeline_svm.fit(X_train[:100000], y_train[:100000]) \n",
    "pred = model.predict(X_valid[:30000]) \n",
    "accuracy = f1_score(y_valid[:30000], pred,average='macro',labels=[0.,1.,2.,3.,4.,5.])\n",
    "print(accuracy)"
   ]
  },
  {
   "cell_type": "code",
   "execution_count": 57,
   "metadata": {},
   "outputs": [
    {
     "name": "stdout",
     "output_type": "stream",
     "text": [
      "[Pipeline] .... (step 1 of 2) Processing standardscaler, total=   0.1s\n",
      "[LibSVM][Pipeline] ............... (step 2 of 2) Processing svc, total=23.4min\n",
      "0.15288728944894722\n"
     ]
    }
   ],
   "source": [
    "# SVM with Unbalanced Data\n",
    "pipeline_svm = make_pipeline(StandardScaler(), SVC(kernel='linear', class_weight = 'balanced',verbose=True),verbose=True)\n",
    "model = pipeline_svm.fit(X_train_large[:100000], y_train_large[:100000]) \n",
    "pred = model.predict(X_valid[:30000]) \n",
    "accuracy = f1_score(y_valid[:30000], pred,average='macro',labels=[0.,1.,2.,3.,4.,5.])\n",
    "print(accuracy)"
   ]
  },
  {
   "cell_type": "code",
   "execution_count": 69,
   "metadata": {},
   "outputs": [
    {
     "name": "stdout",
     "output_type": "stream",
     "text": [
      "[Pipeline] .... (step 1 of 2) Processing standardscaler, total=   0.0s\n",
      "[LibSVM][Pipeline] ............... (step 2 of 2) Processing svc, total=20.1min\n",
      "0.12822321208883156\n"
     ]
    }
   ],
   "source": [
    "# SVM with less features\n",
    "pipeline_svm = make_pipeline(StandardScaler(), SVC(kernel='linear', class_weight = 'balanced',verbose=True),verbose=True)\n",
    "model = pipeline_svm.fit(X_train_less_features[:100000], y_train_less_features[:100000]) \n",
    "pred = model.predict(X_valid_less_features[:30000]) \n",
    "accuracy = f1_score(y_valid_less_features[:30000], pred,average='macro',labels=[0.,1.,2.,3.,4.,5.])\n",
    "print(accuracy)"
   ]
  },
  {
   "cell_type": "code",
   "execution_count": null,
   "metadata": {},
   "outputs": [],
   "source": []
  }
 ],
 "metadata": {
  "kernelspec": {
   "display_name": "Python 3",
   "language": "python",
   "name": "python3"
  },
  "language_info": {
   "codemirror_mode": {
    "name": "ipython",
    "version": 3
   },
   "file_extension": ".py",
   "mimetype": "text/x-python",
   "name": "python",
   "nbconvert_exporter": "python",
   "pygments_lexer": "ipython3",
   "version": "3.8.5"
  }
 },
 "nbformat": 4,
 "nbformat_minor": 5
}
